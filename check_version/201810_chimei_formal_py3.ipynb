{
 "cells": [
  {
   "cell_type": "code",
   "execution_count": 1,
   "metadata": {},
   "outputs": [
    {
     "name": "stderr",
     "output_type": "stream",
     "text": [
      "Using TensorFlow backend.\n"
     ]
    }
   ],
   "source": [
    "import sys, numpy, pandas, tensorflow, keras, h5py, matplotlib\n",
    "import torch, torchvision, sklearn, PIL"
   ]
  },
  {
   "cell_type": "code",
   "execution_count": 2,
   "metadata": {},
   "outputs": [],
   "source": [
    "libs = [sys, numpy, pandas, tensorflow, keras, h5py, matplotlib, torch, torchvision, sklearn, PIL]\n",
    "libs_txt = [\"python\", \"numpy\", \"pandas\", \"tensorflow\", \"keras\", \"h5py\", \"matplotlib\", \"torch\", \"torchvision\", \"sklearn\", \"Pillow\", \"nltk\"]"
   ]
  },
  {
   "cell_type": "code",
   "execution_count": 3,
   "metadata": {},
   "outputs": [],
   "source": [
    "def show_version(txt, lib):\n",
    "    try:\n",
    "        print(txt, \" version: \", lib.__version__)\n",
    "    except:\n",
    "        print(txt, \" version: \", lib.version)"
   ]
  },
  {
   "cell_type": "code",
   "execution_count": 4,
   "metadata": {},
   "outputs": [
    {
     "name": "stdout",
     "output_type": "stream",
     "text": [
      "python  version:  3.5.2 (default, Nov 23 2017, 16:37:01) \n",
      "[GCC 5.4.0 20160609]\n",
      "numpy  version:  1.15.3\n",
      "pandas  version:  0.23.4\n",
      "tensorflow  version:  1.11.0\n",
      "keras  version:  2.2.4\n",
      "h5py  version:  2.8.0\n",
      "matplotlib  version:  3.0.0\n",
      "torch  version:  0.4.1\n",
      "torchvision  version:  0.2.1\n",
      "sklearn  version:  0.20.0\n",
      "Pillow  version:  5.3.0\n"
     ]
    }
   ],
   "source": [
    "for i, lib in enumerate(libs): \n",
    "    show_version(libs_txt[i], lib)"
   ]
  },
  {
   "cell_type": "code",
   "execution_count": null,
   "metadata": {},
   "outputs": [],
   "source": []
  }
 ],
 "metadata": {
  "kernelspec": {
   "display_name": "Python 3",
   "language": "python",
   "name": "python3"
  },
  "language_info": {
   "codemirror_mode": {
    "name": "ipython",
    "version": 3
   },
   "file_extension": ".py",
   "mimetype": "text/x-python",
   "name": "python",
   "nbconvert_exporter": "python",
   "pygments_lexer": "ipython3",
   "version": "3.5.2"
  }
 },
 "nbformat": 4,
 "nbformat_minor": 2
}
